{
 "cells": [
  {
   "cell_type": "markdown",
   "metadata": {},
   "source": [
    "# BT2101 Deep Learning With Tensorflow and Keras"
   ]
  },
  {
   "cell_type": "markdown",
   "metadata": {},
   "source": [
    "#### This notebook should run in Python 3.5+ version."
   ]
  },
  {
   "cell_type": "markdown",
   "metadata": {},
   "source": [
    "## 1 Goal\n",
    "\n",
    "In this notebook, we will explore deep learning and Tensorflow. <br/>\n",
    "\n",
    "First of all, students should understand machine learning basic knowledge. And then, students can expect to practice machine learning and deep learning models in Tensorflow. More information can be found at https://www.tensorflow.org/install/ and https://keras.io/.\n",
    "\n",
    "Make sure you have already installed tensorflow in your computing, and then you are able to install Keras. **Note that Tensorflow only supports Python 3.5+ version.** If you installed Python 2.7 version in your computer, you could:\n",
    "* Create a new virtual environment with Python 3.5+ in Anaconda \n",
    "* Activate this virtual environment\n",
    "* Install Tensorflow CPU version in this virtual environment\n",
    "* Open Python in this virtual environment and type `import tensorflow as tf`\n",
    "* Installation of Tensorflow succeeds if there is not error message returns"
   ]
  },
  {
   "cell_type": "code",
   "execution_count": 1,
   "metadata": {},
   "outputs": [
    {
     "name": "stderr",
     "output_type": "stream",
     "text": [
      "/Users/air/anaconda3/lib/python3.6/site-packages/h5py/__init__.py:36: FutureWarning: Conversion of the second argument of issubdtype from `float` to `np.floating` is deprecated. In future, it will be treated as `np.float64 == np.dtype(float).type`.\n",
      "  from ._conv import register_converters as _register_converters\n"
     ]
    },
    {
     "name": "stdout",
     "output_type": "stream",
     "text": [
      "b'Hello, TensorFlow!'\n"
     ]
    }
   ],
   "source": [
    "# -*- coding:utf-8 -*-\n",
    "# Check whether tensorflow is installed\n",
    "import tensorflow as tf\n",
    "hello = tf.constant('Hello, TensorFlow!')\n",
    "sess = tf.Session()\n",
    "print(sess.run(hello))"
   ]
  },
  {
   "cell_type": "markdown",
   "metadata": {},
   "source": [
    "### 1.1 Machine Learning Types"
   ]
  },
  {
   "cell_type": "markdown",
   "metadata": {},
   "source": [
    "Basic machine learning methods include:\n",
    "\n",
    "1. Supervised Learning\n",
    "\n",
    "The algorithm consists of a target/outcome variable (or dependent variable) which is to be predicted from a given set of predictors (independent variables). Examples include regression, decision tree and KNN.\n",
    "\n",
    "2. Unsupervised Learning\n",
    "\n",
    "The algorithm does not have any target or outcome variable to predict/estimate. It is used for clustering population in different groups, which is widely used for segmenting customers in different groups for specific intervention. Examples include K-means clustering.\n",
    "\n",
    "3. Reinforcement Learning\n",
    "\n",
    "The algorithm trains a machine to make specific decisions. A machine is exposed to an environment where it trains itself continually using trial and error. Examples include Markov Chain Process."
   ]
  },
  {
   "cell_type": "markdown",
   "metadata": {},
   "source": [
    "### 1.2 Installing Tensorflow and Keras"
   ]
  },
  {
   "cell_type": "markdown",
   "metadata": {},
   "source": [
    "To get started, install the Tensorflow (CPU version by default or GPU version) in your PC. You need to follow the guide here: https://www.tensorflow.org/install/.\n",
    "* Windows: https://www.tensorflow.org/install/install_windows\n",
    "* Linux: https://www.tensorflow.org/install/install_linux\n",
    "* Mac OS: https://www.tensorflow.org/install/install_mac"
   ]
  },
  {
   "cell_type": "markdown",
   "metadata": {},
   "source": [
    "Next, you need to install Keras. Keras is a high-level neural networks API, written in Python and capable of running on top of TensorFlow, CNTK, or Theano. It was developed with a focus on enabling fast experimentation. You need to follow the guide here: https://keras.io/#installation. After installation, let us try a simple model using Keras."
   ]
  },
  {
   "cell_type": "markdown",
   "metadata": {},
   "source": [
    "#### Getting started: 30 seconds to Keras\n",
    "Source: https://keras.io/#getting-started-30-seconds-to-keras <br/>\n",
    "Note: This section is the same as the content in the above link. It simply shows how to setup and train a neural network model. \n",
    "\n",
    "The core data structure of Keras is a model, a way to organize layers. The simplest type of model is the `Sequential` model, a linear stack of layers. For more complex architectures, you should use the Keras functional API, which allows to build arbitrary graphs of layers.\n",
    "\n",
    "Here is the `Sequential` model:\n",
    "\n",
    "```python\n",
    "from keras.models import Sequential\n",
    "model = Sequential()\n",
    "```\n",
    "\n",
    "Stacking layers is as easy as `.add()`:\n",
    "\n",
    "```python\n",
    "from keras.layers import Dense\n",
    "model.add(Dense(units=64, activation='relu', input_dim=100))\n",
    "model.add(Dense(units=10, activation='softmax'))\n",
    "```\n",
    "\n",
    "Once your model looks good, configure its learning process with `.compile()`:\n",
    "\n",
    "```python\n",
    "model.compile(loss='categorical_crossentropy',\n",
    "              optimizer='sgd',\n",
    "              metrics=['accuracy'])\n",
    "```\n",
    "\n",
    "If you need to, you can further configure your optimizer. A core principle of Keras is to make things reasonably simple, while allowing the user to be fully in control when they need to (the ultimate control being the easy extensibility of the source code).\n",
    "\n",
    "```python\n",
    "model.compile(loss=keras.losses.categorical_crossentropy,\n",
    "              optimizer=keras.optimizers.SGD(lr=0.01, momentum=0.9, nesterov=True))\n",
    "```\n",
    "\n",
    "You can now iterate on your training data in batches:\n",
    "\n",
    "```python\n",
    "# x_train and y_train are Numpy arrays --just like in the Scikit-Learn API.\n",
    "model.fit(x_train, y_train, epochs=5, batch_size=32)\n",
    "```\n",
    "\n",
    "Alternatively, you can feed batches to your model manually:\n",
    "\n",
    "```python\n",
    "model.train_on_batch(x_batch, y_batch)\n",
    "```\n",
    "\n",
    "Evaluate your performance in one line:\n",
    "\n",
    "```python\n",
    "loss_and_metrics = model.evaluate(x_test, y_test, batch_size=128)\n",
    "```\n",
    "\n",
    "Or generate predictions on new data:\n",
    "\n",
    "```python\n",
    "classes = model.predict(x_test, batch_size=128)\n",
    "```\n",
    "\n",
    "Building a question answering system, an image classification model, a Neural Turing Machine, or any other model is just as fast. The ideas behind deep learning are simple, so why should their implementation be painful?\n",
    "\n",
    "For a more in-depth tutorial about Keras, you can check out:\n",
    "\n",
    "* [Getting started with the Sequential model](https://keras.io/getting-started/sequential-model-guide)\n",
    "* [Getting started with the functional API](https://keras.io/getting-started/functional-api-guide)\n",
    "\n",
    "In the [examples folder](https://github.com/keras-team/keras/tree/master/examples) of the repository, you will find more advanced models: question-answering with memory networks, text generation with stacked LSTMs, etc."
   ]
  },
  {
   "cell_type": "markdown",
   "metadata": {},
   "source": [
    "## 2 Experiment Using Keras"
   ]
  },
  {
   "cell_type": "markdown",
   "metadata": {},
   "source": [
    "### Case I: Multi-class Classification"
   ]
  },
  {
   "cell_type": "markdown",
   "metadata": {},
   "source": [
    "We are going to practice with handwritten digital from MINIST dataset, which is the representative data to explore machine learning techniques. We are going to practice to learn the basics of Keras by walking through a simple example: MINIST consists of $28\\times28$ grayscale images of handwritten digits like these:\n",
    "\n",
    "<img src=\"https://cdn-images-1.medium.com/max/1600/1*_4Ua9Zp84He8OxlZ4cy0DQ@2x.png\" width=\"500\">\n",
    "\n",
    "The dataset also includes labels for each image, telling us which digit it is. For example, the labels for the above images are 5, 0, 4, and 1."
   ]
  },
  {
   "cell_type": "code",
   "execution_count": 2,
   "metadata": {},
   "outputs": [
    {
     "name": "stderr",
     "output_type": "stream",
     "text": [
      "Using TensorFlow backend.\n"
     ]
    }
   ],
   "source": [
    "# Load packages\n",
    "import numpy as np\n",
    "import scipy\n",
    "import keras\n",
    "from keras.models import Sequential\n",
    "from keras.layers import Dense, Dropout\n",
    "from __future__ import division\n",
    "import matplotlib.pyplot as plt\n",
    "%matplotlib inline"
   ]
  },
  {
   "cell_type": "code",
   "execution_count": 3,
   "metadata": {},
   "outputs": [],
   "source": [
    "# Load the MNIST data\n",
    "from keras.datasets import mnist\n",
    "\n",
    "# the data, split between train and test sets\n",
    "(x_train, y_train), (x_test, y_test) = mnist.load_data()"
   ]
  },
  {
   "cell_type": "markdown",
   "metadata": {},
   "source": [
    "Ths X data is a 3D Array (images, width, height) of grayscale values. To prepare the data for training, we should convert the 3D Array to matrices by reshaping width and height into a single dimension (i.e., $28\\times28$ images are flatterned into length 784 vectors). Then, we rescale the grayscale values from integers ranging between 0 to 255 into floating point values ranging between 0 and 1."
   ]
  },
  {
   "cell_type": "code",
   "execution_count": 4,
   "metadata": {},
   "outputs": [],
   "source": [
    "x_train_new = x_train.reshape(x_train.shape[0], 784) / 255\n",
    "x_test_new = x_test.reshape(x_test.shape[0], 784) / 255"
   ]
  },
  {
   "cell_type": "markdown",
   "metadata": {},
   "source": [
    "The y data is an integer vector with values ranging from 0 to 9. To prepare this data for training we should encode the vectors into binary class matrices using the Keras function `to_categorical()`."
   ]
  },
  {
   "cell_type": "code",
   "execution_count": 5,
   "metadata": {},
   "outputs": [],
   "source": [
    "y_train_new = keras.utils.to_categorical(y_train, 10)\n",
    "y_test_new = keras.utils.to_categorical(y_test, 10)"
   ]
  },
  {
   "cell_type": "code",
   "execution_count": 6,
   "metadata": {},
   "outputs": [
    {
     "name": "stdout",
     "output_type": "stream",
     "text": [
      "_________________________________________________________________\n",
      "Layer (type)                 Output Shape              Param #   \n",
      "=================================================================\n",
      "dense_1 (Dense)              (None, 256)               200960    \n",
      "_________________________________________________________________\n",
      "dropout_1 (Dropout)          (None, 256)               0         \n",
      "_________________________________________________________________\n",
      "dense_2 (Dense)              (None, 128)               32896     \n",
      "_________________________________________________________________\n",
      "dropout_2 (Dropout)          (None, 128)               0         \n",
      "_________________________________________________________________\n",
      "dense_3 (Dense)              (None, 10)                1290      \n",
      "=================================================================\n",
      "Total params: 235,146\n",
      "Trainable params: 235,146\n",
      "Non-trainable params: 0\n",
      "_________________________________________________________________\n"
     ]
    }
   ],
   "source": [
    "# Then we can try the sequential model\n",
    "model = Sequential()\n",
    "\n",
    "# First hidden layer\n",
    "model.add(Dense(units=256, activation='relu', input_dim=784))\n",
    "model.add(Dropout(0.4))\n",
    "\n",
    "# Second hidden layer\n",
    "model.add(Dense(units=128, activation='relu'))\n",
    "model.add(Dropout(0.3))\n",
    "\n",
    "# Output layer\n",
    "model.add(Dense(units=10, activation='sigmoid'))\n",
    "\n",
    "# The argument for the first layer specifies the shape of the input data (a length 784 numeric vector representing a grayscale image). \n",
    "# The final layer outputs a length 10 numeric vector (probabilities for each digit) using a softmax activation function.\n",
    "model.summary()"
   ]
  },
  {
   "cell_type": "markdown",
   "metadata": {},
   "source": [
    "#### Some activation functions:\n",
    "\n",
    "<img src=\"https://cdn-images-1.medium.com/max/1600/1*p_hyqAtyI8pbt2kEl6siOQ.png\" width=\"900\">"
   ]
  },
  {
   "cell_type": "code",
   "execution_count": 7,
   "metadata": {},
   "outputs": [],
   "source": [
    "# Then we can compile the model with appropriate loss function, optimizer and metrics \n",
    "model.compile(loss='categorical_crossentropy', optimizer=keras.optimizers.rmsprop(), metrics=['accuracy'])"
   ]
  },
  {
   "cell_type": "code",
   "execution_count": 8,
   "metadata": {},
   "outputs": [
    {
     "name": "stdout",
     "output_type": "stream",
     "text": [
      "Train on 48000 samples, validate on 12000 samples\n",
      "Epoch 1/15\n",
      "48000/48000 [==============================] - 57s 1ms/step - loss: 0.5036 - acc: 0.8505 - val_loss: 0.1698 - val_acc: 0.9505\n",
      "Epoch 2/15\n",
      "48000/48000 [==============================] - 43s 896us/step - loss: 0.2171 - acc: 0.9365 - val_loss: 0.1260 - val_acc: 0.9638\n",
      "Epoch 3/15\n",
      "48000/48000 [==============================] - 42s 878us/step - loss: 0.1660 - acc: 0.9514 - val_loss: 0.1171 - val_acc: 0.9647\n",
      "Epoch 4/15\n",
      "48000/48000 [==============================] - 42s 869us/step - loss: 0.1411 - acc: 0.9595 - val_loss: 0.1027 - val_acc: 0.9708\n",
      "Epoch 5/15\n",
      "48000/48000 [==============================] - 42s 880us/step - loss: 0.1209 - acc: 0.9647 - val_loss: 0.0979 - val_acc: 0.9748\n",
      "Epoch 6/15\n",
      "48000/48000 [==============================] - 48s 994us/step - loss: 0.1119 - acc: 0.9672 - val_loss: 0.0921 - val_acc: 0.9737\n",
      "Epoch 7/15\n",
      "48000/48000 [==============================] - 45s 942us/step - loss: 0.1037 - acc: 0.9710 - val_loss: 0.0929 - val_acc: 0.9757\n",
      "Epoch 8/15\n",
      "48000/48000 [==============================] - 49s 1ms/step - loss: 0.0971 - acc: 0.9721 - val_loss: 0.0985 - val_acc: 0.9758\n",
      "Epoch 9/15\n",
      "48000/48000 [==============================] - 44s 926us/step - loss: 0.0867 - acc: 0.9751 - val_loss: 0.0911 - val_acc: 0.9769\n",
      "Epoch 10/15\n",
      "48000/48000 [==============================] - 48s 992us/step - loss: 0.0837 - acc: 0.9759 - val_loss: 0.0929 - val_acc: 0.9760\n",
      "Epoch 11/15\n",
      "48000/48000 [==============================] - 46s 965us/step - loss: 0.0782 - acc: 0.9778 - val_loss: 0.1020 - val_acc: 0.9762\n",
      "Epoch 12/15\n",
      "48000/48000 [==============================] - 42s 884us/step - loss: 0.0789 - acc: 0.9778 - val_loss: 0.0903 - val_acc: 0.9781\n",
      "Epoch 13/15\n",
      "48000/48000 [==============================] - 46s 964us/step - loss: 0.0727 - acc: 0.9793 - val_loss: 0.1020 - val_acc: 0.9775\n",
      "Epoch 14/15\n",
      "48000/48000 [==============================] - 45s 942us/step - loss: 0.0709 - acc: 0.9794 - val_loss: 0.0975 - val_acc: 0.9779\n",
      "Epoch 15/15\n",
      "48000/48000 [==============================] - 49s 1ms/step - loss: 0.0722 - acc: 0.9800 - val_loss: 0.0954 - val_acc: 0.9781\n"
     ]
    }
   ],
   "source": [
    "# Train the model with 30 epochs and batches of 128 images\n",
    "history = model.fit(x_train_new, y_train_new, epochs=15, batch_size=128, validation_split=0.2)"
   ]
  },
  {
   "cell_type": "code",
   "execution_count": 9,
   "metadata": {},
   "outputs": [
    {
     "name": "stdout",
     "output_type": "stream",
     "text": [
      "10000/10000 [==============================] - 4s 382us/step\n"
     ]
    },
    {
     "data": {
      "text/plain": [
       "[0.08382527168889065, 0.9806]"
      ]
     },
     "execution_count": 9,
     "metadata": {},
     "output_type": "execute_result"
    }
   ],
   "source": [
    "# Evaluate model performance on test data\n",
    "loss_and_metrics = model.evaluate(x_test_new, y_test_new, batch_size=128)\n",
    "loss_and_metrics #[loss, accuracy]"
   ]
  },
  {
   "cell_type": "code",
   "execution_count": 10,
   "metadata": {},
   "outputs": [
    {
     "data": {
      "text/plain": [
       "array([7, 2, 1, ..., 4, 5, 6])"
      ]
     },
     "execution_count": 10,
     "metadata": {},
     "output_type": "execute_result"
    }
   ],
   "source": [
    "# Make predictions on test data\n",
    "probabilities = model.predict(x_test_new, batch_size=128)\n",
    "classes = probabilities.argmax(axis=-1)\n",
    "classes"
   ]
  },
  {
   "cell_type": "code",
   "execution_count": 11,
   "metadata": {},
   "outputs": [
    {
     "data": {
      "image/png": "[encoded data removed]",
      "text/plain": [
       "<Figure size 432x288 with 1 Axes>"
      ]
     },
     "metadata": {},
     "output_type": "display_data"
    }
   ],
   "source": [
    "# What does the first image in x_test_new look like\n",
    "# Whether we predict it correctly?\n",
    "import matplotlib.pyplot as plt\n",
    "from __future__ import division\n",
    "%matplotlib inline\n",
    "\n",
    "plt.imshow(np.array(x_test_new[0,:]).reshape((28, 28)), cmap=\"gray\")\n",
    "plt.title(\"This digit is %d\" % classes[0])\n",
    "plt.show()"
   ]
  },
  {
   "cell_type": "code",
   "execution_count": 12,
   "metadata": {},
   "outputs": [
    {
     "data": {
      "image/png": "[encoded data removed]",
      "text/plain": [
       "<Figure size 720x360 with 1 Axes>"
      ]
     },
     "metadata": {},
     "output_type": "display_data"
    },
    {
     "data": {
      "image/png": "[encoded data removed]",
      "text/plain": [
       "<Figure size 720x360 with 1 Axes>"
      ]
     },
     "metadata": {},
     "output_type": "display_data"
    }
   ],
   "source": [
    "# Plot loss and accuracy \n",
    "fig = plt.figure(figsize=(10,5))\n",
    "\n",
    "#plt.subplot(1, 2, 1)\n",
    "plt.plot(history.epoch, history.history['val_loss'], 'g-', label='Validation data')\n",
    "plt.plot(history.epoch, history.history['loss'], 'r--', label='Training data')\n",
    "plt.grid(True)\n",
    "plt.xlabel('Number of epochs')\n",
    "plt.ylabel('Loss on training/validation data')\n",
    "plt.legend(bbox_to_anchor=(1.05, 1), loc=2, borderaxespad=0.)\n",
    "plt.show()\n",
    "\n",
    "#plt.subplot(1, 2, 2)\n",
    "fig = plt.figure(figsize=(10,5))\n",
    "plt.plot(history.epoch, history.history['val_acc'], 'g-', label='Validation data')\n",
    "plt.plot(history.epoch, history.history['acc'], 'r--', label='Training data')\n",
    "plt.grid(True)\n",
    "plt.xlabel('Number of epochs')\n",
    "plt.ylabel('Accuracy on training/validation data')\n",
    "plt.legend(bbox_to_anchor=(1.05, 1), loc=2, borderaxespad=0.)\n",
    "plt.show()"
   ]
  },
  {
   "cell_type": "markdown",
   "metadata": {},
   "source": []
  },
  {
   "cell_type": "markdown",
   "metadata": {},
   "source": [
    "### Case II: Regression "
   ]
  },
  {
   "cell_type": "markdown",
   "metadata": {},
   "source": [
    "We are going to practice with regression problem. In regression, usually output is continuous and numerical, which is different from classification problem.\n",
    "\n",
    "The example here is based on the case in [\"Machine Learning with Python Cookbook\"](#3-References). The codes here are revised and different from the original ones."
   ]
  },
  {
   "cell_type": "code",
   "execution_count": 13,
   "metadata": {},
   "outputs": [],
   "source": [
    "# import packages and load dataset\n",
    "from sklearn.datasets import make_regression\n",
    "from sklearn.model_selection import train_test_split\n",
    "\n",
    "X, y = make_regression(n_samples=10000, n_features=3, n_informative=3, n_targets=1, noise=0.0, random_state=0)"
   ]
  },
  {
   "cell_type": "code",
   "execution_count": 14,
   "metadata": {},
   "outputs": [],
   "source": [
    "# Split dataset\n",
    "X_train, X_test, y_train, y_test = train_test_split(X, y, test_size=0.3, random_state=0)"
   ]
  },
  {
   "cell_type": "code",
   "execution_count": 15,
   "metadata": {},
   "outputs": [
    {
     "name": "stdout",
     "output_type": "stream",
     "text": [
      "_________________________________________________________________\n",
      "Layer (type)                 Output Shape              Param #   \n",
      "=================================================================\n",
      "dense_4 (Dense)              (None, 32)                128       \n",
      "_________________________________________________________________\n",
      "dropout_3 (Dropout)          (None, 32)                0         \n",
      "_________________________________________________________________\n",
      "dense_5 (Dense)              (None, 32)                1056      \n",
      "_________________________________________________________________\n",
      "dropout_4 (Dropout)          (None, 32)                0         \n",
      "_________________________________________________________________\n",
      "dense_6 (Dense)              (None, 1)                 33        \n",
      "=================================================================\n",
      "Total params: 1,217\n",
      "Trainable params: 1,217\n",
      "Non-trainable params: 0\n",
      "_________________________________________________________________\n"
     ]
    }
   ],
   "source": [
    "# Setup neural network\n",
    "model = Sequential()\n",
    "model.add(Dense(units=32, activation='relu', input_dim=X_train.shape[1])) #input the dimension is the number of columns\n",
    "model.add(Dropout(0.4))\n",
    "model.add(Dense(units=32, activation='relu'))\n",
    "model.add(Dropout(0.3))\n",
    "model.add(Dense(units=1))\n",
    "\n",
    "model.summary()"
   ]
  },
  {
   "cell_type": "code",
   "execution_count": 16,
   "metadata": {},
   "outputs": [],
   "source": [
    "# Complile the model: based on mean-squared-error metrics\n",
    "model.compile(loss='mse', optimizer=keras.optimizers.rmsprop(), metrics=['mse'])"
   ]
  },
  {
   "cell_type": "code",
   "execution_count": 17,
   "metadata": {},
   "outputs": [
    {
     "name": "stdout",
     "output_type": "stream",
     "text": [
      "Train on 7000 samples, validate on 3000 samples\n",
      "Epoch 1/10\n",
      "7000/7000 [==============================] - 1s 202us/step - loss: 17293.7711 - mean_squared_error: 17293.7711 - val_loss: 17970.3129 - val_mean_squared_error: 17970.3129\n",
      "Epoch 2/10\n",
      "7000/7000 [==============================] - 1s 81us/step - loss: 16543.4571 - mean_squared_error: 16543.4571 - val_loss: 16787.3999 - val_mean_squared_error: 16787.3999\n",
      "Epoch 3/10\n",
      "7000/7000 [==============================] - 1s 78us/step - loss: 15034.3042 - mean_squared_error: 15034.3042 - val_loss: 14718.7554 - val_mean_squared_error: 14718.7554\n",
      "Epoch 4/10\n",
      "7000/7000 [==============================] - 1s 82us/step - loss: 12747.3566 - mean_squared_error: 12747.3566 - val_loss: 11838.1860 - val_mean_squared_error: 11838.1860\n",
      "Epoch 5/10\n",
      "7000/7000 [==============================] - 1s 83us/step - loss: 9789.8202 - mean_squared_error: 9789.8202 - val_loss: 8281.4268 - val_mean_squared_error: 8281.4268\n",
      "Epoch 6/10\n",
      "7000/7000 [==============================] - 1s 83us/step - loss: 6420.2082 - mean_squared_error: 6420.2082 - val_loss: 4734.7071 - val_mean_squared_error: 4734.7071\n",
      "Epoch 7/10\n",
      "7000/7000 [==============================] - 0s 56us/step - loss: 3609.4355 - mean_squared_error: 3609.4355 - val_loss: 2154.4037 - val_mean_squared_error: 2154.4037\n",
      "Epoch 8/10\n",
      "7000/7000 [==============================] - 1s 74us/step - loss: 2205.7664 - mean_squared_error: 2205.7664 - val_loss: 944.5939 - val_mean_squared_error: 944.5939\n",
      "Epoch 9/10\n",
      "7000/7000 [==============================] - 1s 72us/step - loss: 1805.0535 - mean_squared_error: 1805.0535 - val_loss: 651.9216 - val_mean_squared_error: 651.9216\n",
      "Epoch 10/10\n",
      "7000/7000 [==============================] - 1s 73us/step - loss: 1657.2121 - mean_squared_error: 1657.2121 - val_loss: 550.3426 - val_mean_squared_error: 550.3426\n"
     ]
    }
   ],
   "source": [
    "# Train and fit the neural network\n",
    "history = model.fit(X_train, y_train, epochs=10, batch_size=100, validation_data=(X_test, y_test))"
   ]
  },
  {
   "cell_type": "code",
   "execution_count": 18,
   "metadata": {},
   "outputs": [
    {
     "data": {
      "text/plain": [
       "{'val_loss': [17970.312923177084,\n",
       "  16787.399869791665,\n",
       "  14718.75537109375,\n",
       "  11838.186002604167,\n",
       "  8281.4267578125,\n",
       "  4734.707080078125,\n",
       "  2154.4037231445313,\n",
       "  944.5938944498698,\n",
       "  651.9215983072917,\n",
       "  550.3426411946615],\n",
       " 'val_mean_squared_error': [17970.312923177084,\n",
       "  16787.399869791665,\n",
       "  14718.75537109375,\n",
       "  11838.186002604167,\n",
       "  8281.4267578125,\n",
       "  4734.707080078125,\n",
       "  2154.4037231445313,\n",
       "  944.5938944498698,\n",
       "  651.9215983072917,\n",
       "  550.3426411946615],\n",
       " 'loss': [17293.771121651786,\n",
       "  16543.457059151784,\n",
       "  15034.304185267858,\n",
       "  12747.356556919643,\n",
       "  9789.820242745536,\n",
       "  6420.208196149553,\n",
       "  3609.4354875837053,\n",
       "  2205.7663992745534,\n",
       "  1805.0535226004465,\n",
       "  1657.212051827567],\n",
       " 'mean_squared_error': [17293.771121651786,\n",
       "  16543.457059151784,\n",
       "  15034.304185267858,\n",
       "  12747.356556919643,\n",
       "  9789.820242745536,\n",
       "  6420.208196149553,\n",
       "  3609.4354875837053,\n",
       "  2205.7663992745534,\n",
       "  1805.0535226004465,\n",
       "  1657.212051827567]}"
      ]
     },
     "execution_count": 18,
     "metadata": {},
     "output_type": "execute_result"
    }
   ],
   "source": [
    "history.history"
   ]
  },
  {
   "cell_type": "code",
   "execution_count": 19,
   "metadata": {},
   "outputs": [
    {
     "name": "stdout",
     "output_type": "stream",
     "text": [
      "3000/3000 [==============================] - 0s 23us/step\n"
     ]
    },
    {
     "data": {
      "text/plain": [
       "[550.3426411946615, 550.3426411946615]"
      ]
     },
     "execution_count": 19,
     "metadata": {},
     "output_type": "execute_result"
    }
   ],
   "source": [
    "# Evaluate model performance on test data\n",
    "loss_and_metrics = model.evaluate(X_test, y_test, batch_size=100)\n",
    "loss_and_metrics #mse"
   ]
  },
  {
   "cell_type": "code",
   "execution_count": 20,
   "metadata": {},
   "outputs": [
    {
     "data": {
      "text/plain": [
       "array([[  95.40596 ],\n",
       "       [ -91.13405 ],\n",
       "       [-167.49931 ],\n",
       "       ...,\n",
       "       [-177.83687 ],\n",
       "       [ -44.153194],\n",
       "       [-139.32043 ]], dtype=float32)"
      ]
     },
     "execution_count": 20,
     "metadata": {},
     "output_type": "execute_result"
    }
   ],
   "source": [
    "# Make predictions on test data\n",
    "predict_output = model.predict(X_test, batch_size=100)\n",
    "predict_output"
   ]
  },
  {
   "cell_type": "code",
   "execution_count": 21,
   "metadata": {},
   "outputs": [
    {
     "data": {
      "image/png": "[encoded data removed]",
      "text/plain": [
       "<Figure size 432x288 with 1 Axes>"
      ]
     },
     "metadata": {},
     "output_type": "display_data"
    },
    {
     "data": {
      "image/png": "[encoded data removed]",
      "text/plain": [
       "<Figure size 432x288 with 1 Axes>"
      ]
     },
     "metadata": {},
     "output_type": "display_data"
    }
   ],
   "source": [
    "# Plot loss and accuracy \n",
    "fig = plt.figure()\n",
    "\n",
    "#plt.subplot(1, 2, 1)\n",
    "plt.plot(history.epoch, history.history['val_loss'], 'g-', label='Validation data')\n",
    "plt.plot(history.epoch, history.history['loss'], 'r--', label='Training data')\n",
    "plt.grid(True)\n",
    "plt.xlabel('Number of epochs')\n",
    "plt.ylabel('Loss on training/validation data')\n",
    "plt.legend(bbox_to_anchor=(1.05, 1), loc=2, borderaxespad=0.)\n",
    "plt.show()\n",
    "\n",
    "#plt.subplot(1, 2, 2)\n",
    "plt.plot(history.epoch, history.history['val_mean_squared_error'], 'g-', label='Validation data')\n",
    "plt.plot(history.epoch, history.history['mean_squared_error'], 'r--', label='Training data')\n",
    "plt.grid(True)\n",
    "plt.xlabel('Number of epochs')\n",
    "plt.ylabel('MSE on training/validation data')\n",
    "plt.legend(bbox_to_anchor=(1.05, 1), loc=2, borderaxespad=0.)\n",
    "plt.show()"
   ]
  },
  {
   "cell_type": "markdown",
   "metadata": {},
   "source": [
    "Now it is your turn. Read Tensorflow and Keras documents and examples. Familiarize yourself with applications of neural network models. "
   ]
  },
  {
   "cell_type": "markdown",
   "metadata": {},
   "source": [
    "## 3 Assignments (5 points)\n",
    "\n",
    "### Purpose of this assignment is to familiarize yourself with tensorflow and keras"
   ]
  },
  {
   "cell_type": "markdown",
   "metadata": {},
   "source": [
    "#### Dataset on Hand Writen Digits: The same dataset used in Tutorial 3 Ensemble Learning. Remember in tutorial 3, the accuracy of single decision tree model is about 86%, bagging model 95%, random forest model 96%. Let us check the performance of neural network model\n",
    "\n",
    "**Dataset:**\n",
    "\n",
    "The Kaggle competition dataset can be obtained from https://www.kaggle.com/c/digit-recognizer/data.\n",
    "\n",
    "**Overview:**\n",
    "\n",
    "MNIST (\"Modified National Institute of Standards and Technology\") is the de facto “hello world” dataset of computer vision. Since its release in 1999, this classic dataset of handwritten images has served as the basis for benchmarking classification algorithms. As new machine learning techniques emerge, MNIST remains a reliable resource for researchers and learners alike.\n",
    "\n",
    "In this competition, your goal is to correctly identify digits from a dataset of tens of thousands of handwritten images. We’ve curated a set of tutorial-style kernels which cover everything from regression to neural networks. We encourage you to experiment with different algorithms to learn first-hand what works well and how techniques compare.\n",
    "\n",
    "**Acknowlegements:**\n",
    "\n",
    "More details about the dataset, including algorithms that have been tried on it and their levels of success, can be found at http://yann.lecun.com/exdb/mnist/index.html. The dataset is made available under a Creative Commons Attribution-Share Alike 3.0 license.\n",
    "\n",
    "**Attributes:**\n",
    "\n",
    "The data files train.csv and test.csv contain gray-scale images of hand-drawn digits, from zero through nine.\n",
    "\n",
    "Each image is 28 pixels in height and 28 pixels in width, for a total of 784 pixels in total. Each pixel has a single pixel-value associated with it, indicating the lightness or darkness of that pixel, with higher numbers meaning darker. This pixel-value is an integer between 0 and 255, inclusive.\n",
    "\n",
    "The training data set, (train.csv), has 785 columns. The first column, called \"label\", is the digit that was drawn by the user. The rest of the columns contain the pixel-values of the associated image.\n",
    "\n",
    "Each pixel column in the training set has a name like pixelx, where x is an integer between 0 and 783, inclusive. To locate this pixel on the image, suppose that we have decomposed x as x = i * 28 + j, where i and j are integers between 0 and 27, inclusive. Then pixelx is located on row i and column j of a 28 x 28 matrix, (indexing by zero).\n",
    "\n",
    "The test data set, (test.csv), is the same as the training set, except that it does not contain the \"label\" column.\n",
    "\n",
    "The evaluation metric for this contest is the categorization accuracy, or the proportion of test images that are correctly classified. For example, a categorization accuracy of 0.97 indicates that you have correctly classified all but 3% of the images."
   ]
  },
  {
   "cell_type": "code",
   "execution_count": 22,
   "metadata": {},
   "outputs": [],
   "source": [
    "# Load packages\n",
    "import numpy as np\n",
    "import pandas as pd\n",
    "import scipy\n",
    "import keras\n",
    "from keras.models import Sequential\n",
    "from keras.layers import Dense, Dropout\n",
    "from sklearn.model_selection import train_test_split\n",
    "from __future__ import division\n",
    "import matplotlib.pyplot as plt\n",
    "%matplotlib inline"
   ]
  },
  {
   "cell_type": "code",
   "execution_count": 23,
   "metadata": {},
   "outputs": [],
   "source": [
    "# Load dataset: You need to download dataset first\n",
    "%pwd\n",
    "train = pd.read_csv('./train.csv')"
   ]
  },
  {
   "cell_type": "code",
   "execution_count": 24,
   "metadata": {},
   "outputs": [
    {
     "data": {
      "text/plain": [
       "(42000, 785)"
      ]
     },
     "execution_count": 24,
     "metadata": {},
     "output_type": "execute_result"
    }
   ],
   "source": [
    "# 42,000 pictures; Each picture is composed of 28*28 dimensional pixels\n",
    "train.shape"
   ]
  },
  {
   "cell_type": "code",
   "execution_count": 25,
   "metadata": {
    "scrolled": true
   },
   "outputs": [
    {
     "data": {
      "image/png": "[encoded data removed]",
      "text/plain": [
       "<Figure size 432x288 with 1 Axes>"
      ]
     },
     "metadata": {},
     "output_type": "display_data"
    }
   ],
   "source": [
    "# What does an image look like\n",
    "plt.imshow(np.array(train.iloc[1,1:]).reshape((28, 28)), cmap=\"gray\")\n",
    "plt.title(\"This digit is %d\" % train.iloc[1,0])\n",
    "plt.show()"
   ]
  },
  {
   "cell_type": "code",
   "execution_count": 26,
   "metadata": {},
   "outputs": [],
   "source": [
    "# Transform features and outputs\n",
    "train_feature = train.iloc[:,1:].values / 255\n",
    "train_target = keras.utils.to_categorical(train.iloc[:,0], 10)"
   ]
  },
  {
   "cell_type": "markdown",
   "metadata": {},
   "source": [
    "### Question 1. Create a neural network model, and show model performance (3 points)\n",
    "\n",
    "#### Hint:\n",
    "* Create a neural network in a sequential way\n",
    "* Set 1st hidden layer with parameters: `units=256`, `activation='relu'`, `input_dim=784`\n",
    "* Set dropout rate to 0.3\n",
    "* Set 2nd hidden layer with parameters: `units=128`, `activation='relu'`\n",
    "* Set dropout rate to 0.3\n",
    "* Set 3rd hidden layer with parameters: `units=64`, `activation='relu'`\n",
    "* Set output layer with parameters: `units=10`, `activation='sigmoid'`\n",
    "* Train the model with parameters: `epochs=30`, `batch_size=128`, `validation_split=0.3`\n",
    "* Compile the model with parameters: `loss='categorical_crossentropy'`, `optimizer='sgd'`, `metrics=['accuracy']`\n",
    "* Sample code:\n",
    "\n",
    "```python\n",
    "\n",
    "# Then we can try the sequential model\n",
    "model = Sequential()\n",
    "model.add(Dense(units=256, activation='relu', input_dim=784))\n",
    "model.add(Dropout(0.4))\n",
    "model.add(Dense(units=128, activation='relu'))\n",
    "model.add(Dropout(0.3))\n",
    "model.add(Dense(units=10, activation='softmax'))\n",
    "\n",
    "# The argument for the first layer specifies the shape of the input data (a length 784 numeric vector representing a grayscale image). \n",
    "# The final layer outputs a length 10 numeric vector (probabilities for each digit) using a softmax activation function.\n",
    "model.summary()\n",
    "\n",
    "# Then we can compile the model with appropriate loss function, optimizer and metrics \n",
    "model.compile(loss='categorical_crossentropy', optimizer=keras.optimizers.rmsprop(), metrics=['accuracy'])\n",
    "\n",
    "# Train the model with 30 epochs and batches of 128 images\n",
    "history = model.fit(x_train_new, y_train_new, epochs=30, batch_size=128, validation_split=0.3)\n",
    "\n",
    "# Evaluate model performance on test data\n",
    "loss_and_metrics = model.evaluate(x_test_new, y_test_new, batch_size=128)\n",
    "loss_and_metrics #[loss, accuracy]\n",
    "\n",
    "```\n",
    "\n",
    "References: https://keras.io/activations/"
   ]
  },
  {
   "cell_type": "code",
   "execution_count": 27,
   "metadata": {},
   "outputs": [
    {
     "name": "stdout",
     "output_type": "stream",
     "text": [
      "_________________________________________________________________\n",
      "Layer (type)                 Output Shape              Param #   \n",
      "=================================================================\n",
      "dense_7 (Dense)              (None, 256)               200960    \n",
      "_________________________________________________________________\n",
      "dropout_5 (Dropout)          (None, 256)               0         \n",
      "_________________________________________________________________\n",
      "dense_8 (Dense)              (None, 128)               32896     \n",
      "_________________________________________________________________\n",
      "dropout_6 (Dropout)          (None, 128)               0         \n",
      "_________________________________________________________________\n",
      "dense_9 (Dense)              (None, 64)                8256      \n",
      "_________________________________________________________________\n",
      "dense_10 (Dense)             (None, 10)                650       \n",
      "=================================================================\n",
      "Total params: 242,762\n",
      "Trainable params: 242,762\n",
      "Non-trainable params: 0\n",
      "_________________________________________________________________\n"
     ]
    }
   ],
   "source": [
    "# Then we can try the sequential model\n",
    "model = Sequential()\n",
    "\n",
    "# First layer\n",
    "# Write your code here\n",
    "model.add(Dense(units=256, activation='relu', input_dim=784))\n",
    "model.add(Dropout(0.3))\n",
    "\n",
    "# Second layer\n",
    "# Write your code here\n",
    "model.add(Dense(units=128, activation='relu'))\n",
    "model.add(Dropout(0.3))\n",
    "\n",
    "# Third layer\n",
    "# Write your code here\n",
    "model.add(Dense(units=64, activation='relu'))\n",
    "\n",
    "# Output layer\n",
    "# Write your code here\n",
    "model.add(Dense(units=10, activation='sigmoid'))\n",
    "\n",
    "# The argument for the first layer specifies the shape of the input data (a length 784 numeric vector representing a grayscale image). \n",
    "# The final layer outputs a length 10 numeric vector (probabilities for each digit) using a softmax activation function.\n",
    "model.summary()"
   ]
  },
  {
   "cell_type": "code",
   "execution_count": 28,
   "metadata": {},
   "outputs": [],
   "source": [
    "# Then we can compile the model with appropriate loss function, optimizer and metrics \n",
    "# Write your code here\n",
    "model.compile(loss='categorical_crossentropy', optimizer='sgd', metrics=['accuracy'])"
   ]
  },
  {
   "cell_type": "code",
   "execution_count": 29,
   "metadata": {},
   "outputs": [
    {
     "name": "stdout",
     "output_type": "stream",
     "text": [
      "Train on 42000 samples, validate on 18000 samples\n",
      "Epoch 1/30\n",
      "42000/42000 [==============================] - 47s 1ms/step - loss: 2.1968 - acc: 0.2299 - val_loss: 1.9665 - val_acc: 0.5840\n",
      "Epoch 2/30\n",
      "42000/42000 [==============================] - 48s 1ms/step - loss: 1.6455 - acc: 0.5019 - val_loss: 0.9324 - val_acc: 0.8015\n",
      "Epoch 3/30\n",
      "42000/42000 [==============================] - 44s 1ms/step - loss: 0.9400 - acc: 0.7059 - val_loss: 0.5392 - val_acc: 0.8589\n",
      "Epoch 4/30\n",
      "42000/42000 [==============================] - 43s 1ms/step - loss: 0.6937 - acc: 0.7861 - val_loss: 0.4290 - val_acc: 0.8822\n",
      "Epoch 5/30\n",
      "42000/42000 [==============================] - 43s 1ms/step - loss: 0.5796 - acc: 0.8224 - val_loss: 0.3719 - val_acc: 0.8966\n",
      "Epoch 6/30\n",
      "42000/42000 [==============================] - 41s 988us/step - loss: 0.5161 - acc: 0.8455 - val_loss: 0.3439 - val_acc: 0.9013\n",
      "Epoch 7/30\n",
      "42000/42000 [==============================] - 43s 1ms/step - loss: 0.4715 - acc: 0.8607 - val_loss: 0.3177 - val_acc: 0.9091\n",
      "Epoch 8/30\n",
      "42000/42000 [==============================] - 43s 1ms/step - loss: 0.4346 - acc: 0.8710 - val_loss: 0.2910 - val_acc: 0.9164\n",
      "Epoch 9/30\n",
      "42000/42000 [==============================] - 44s 1ms/step - loss: 0.4060 - acc: 0.8801 - val_loss: 0.2794 - val_acc: 0.9196\n",
      "Epoch 10/30\n",
      "42000/42000 [==============================] - 38s 902us/step - loss: 0.3825 - acc: 0.8884 - val_loss: 0.2633 - val_acc: 0.9238\n",
      "Epoch 11/30\n",
      "42000/42000 [==============================] - 39s 919us/step - loss: 0.3615 - acc: 0.8938 - val_loss: 0.2509 - val_acc: 0.9261\n",
      "Epoch 12/30\n",
      "42000/42000 [==============================] - 38s 901us/step - loss: 0.3458 - acc: 0.8985 - val_loss: 0.2428 - val_acc: 0.9278\n",
      "Epoch 13/30\n",
      "42000/42000 [==============================] - 37s 889us/step - loss: 0.3274 - acc: 0.9027 - val_loss: 0.2298 - val_acc: 0.9315\n",
      "Epoch 14/30\n",
      "42000/42000 [==============================] - 39s 932us/step - loss: 0.3191 - acc: 0.9060 - val_loss: 0.2222 - val_acc: 0.9327\n",
      "Epoch 15/30\n",
      "42000/42000 [==============================] - 40s 958us/step - loss: 0.3033 - acc: 0.9092 - val_loss: 0.2174 - val_acc: 0.9341\n",
      "Epoch 16/30\n",
      "42000/42000 [==============================] - 39s 936us/step - loss: 0.2906 - acc: 0.9139 - val_loss: 0.2080 - val_acc: 0.9368\n",
      "Epoch 17/30\n",
      "42000/42000 [==============================] - 37s 890us/step - loss: 0.2823 - acc: 0.9167 - val_loss: 0.2000 - val_acc: 0.9393\n",
      "Epoch 18/30\n",
      "42000/42000 [==============================] - 37s 892us/step - loss: 0.2709 - acc: 0.9200 - val_loss: 0.1975 - val_acc: 0.9401\n",
      "Epoch 19/30\n",
      "42000/42000 [==============================] - 38s 897us/step - loss: 0.2634 - acc: 0.9213 - val_loss: 0.1927 - val_acc: 0.9408\n",
      "Epoch 20/30\n",
      "42000/42000 [==============================] - 37s 885us/step - loss: 0.2575 - acc: 0.9243 - val_loss: 0.1839 - val_acc: 0.9448\n",
      "Epoch 21/30\n",
      "42000/42000 [==============================] - 38s 906us/step - loss: 0.2460 - acc: 0.9273 - val_loss: 0.1782 - val_acc: 0.9457\n",
      "Epoch 22/30\n",
      "42000/42000 [==============================] - 38s 895us/step - loss: 0.2413 - acc: 0.9290 - val_loss: 0.1761 - val_acc: 0.9472\n",
      "Epoch 23/30\n",
      "42000/42000 [==============================] - 37s 888us/step - loss: 0.2336 - acc: 0.9310 - val_loss: 0.1718 - val_acc: 0.9475\n",
      "Epoch 24/30\n",
      "42000/42000 [==============================] - 38s 900us/step - loss: 0.2265 - acc: 0.9338 - val_loss: 0.1670 - val_acc: 0.9496\n",
      "Epoch 25/30\n",
      "42000/42000 [==============================] - 38s 896us/step - loss: 0.2228 - acc: 0.9336 - val_loss: 0.1645 - val_acc: 0.9504\n",
      "Epoch 26/30\n",
      "42000/42000 [==============================] - 37s 890us/step - loss: 0.2173 - acc: 0.9368 - val_loss: 0.1629 - val_acc: 0.9513\n",
      "Epoch 27/30\n",
      "42000/42000 [==============================] - 38s 912us/step - loss: 0.2145 - acc: 0.9363 - val_loss: 0.1580 - val_acc: 0.9526\n",
      "Epoch 28/30\n",
      "42000/42000 [==============================] - 38s 899us/step - loss: 0.2068 - acc: 0.9385 - val_loss: 0.1544 - val_acc: 0.9537\n",
      "Epoch 29/30\n",
      "42000/42000 [==============================] - 44s 1ms/step - loss: 0.2017 - acc: 0.9405 - val_loss: 0.1520 - val_acc: 0.9537\n",
      "Epoch 30/30\n",
      "42000/42000 [==============================] - 37s 893us/step - loss: 0.1991 - acc: 0.9406 - val_loss: 0.1495 - val_acc: 0.9546\n"
     ]
    }
   ],
   "source": [
    "# Train the model with 30 epochs and batches of 128 images\n",
    "# Write your code here\n",
    "history = model.fit(x_train_new, y_train_new, epochs=30, batch_size=128, validation_split=0.3)"
   ]
  },
  {
   "cell_type": "code",
   "execution_count": 30,
   "metadata": {},
   "outputs": [
    {
     "name": "stdout",
     "output_type": "stream",
     "text": [
      "42000/42000 [==============================] - 14s 331us/step\n"
     ]
    },
    {
     "data": {
      "text/plain": [
       "[0.129620988431431, 0.9610238095238095]"
      ]
     },
     "execution_count": 30,
     "metadata": {},
     "output_type": "execute_result"
    }
   ],
   "source": [
    "# Evaluate model performance on test data\n",
    "loss_and_metrics = model.evaluate(train_feature, train_target, batch_size=128)\n",
    "loss_and_metrics #[loss, accuracy]"
   ]
  },
  {
   "cell_type": "code",
   "execution_count": 31,
   "metadata": {},
   "outputs": [
    {
     "data": {
      "image/png": "[encoded data removed]",
      "text/plain": [
       "<Figure size 720x360 with 1 Axes>"
      ]
     },
     "metadata": {},
     "output_type": "display_data"
    },
    {
     "data": {
      "image/png": "[encoded data removed]",
      "text/plain": [
       "<Figure size 720x360 with 1 Axes>"
      ]
     },
     "metadata": {},
     "output_type": "display_data"
    }
   ],
   "source": [
    "# Plot loss and accuracy \n",
    "fig = plt.figure(figsize=(10,5))\n",
    "\n",
    "#plt.subplot(1, 2, 1)\n",
    "plt.plot(history.epoch, history.history['val_loss'], 'g-', label='Validation data')\n",
    "plt.plot(history.epoch, history.history['loss'], 'r--', label='Training data')\n",
    "plt.grid(True)\n",
    "plt.xlabel('Number of epochs')\n",
    "plt.ylabel('Loss on training/validation data')\n",
    "plt.legend(bbox_to_anchor=(1.05, 1), loc=2, borderaxespad=0.)\n",
    "plt.show()\n",
    "\n",
    "#plt.subplot(1, 2, 2)\n",
    "fig = plt.figure(figsize=(10,5))\n",
    "plt.plot(history.epoch, history.history['val_acc'], 'g-', label='Validation data')\n",
    "plt.plot(history.epoch, history.history['acc'], 'r--', label='Training data')\n",
    "plt.grid(True)\n",
    "plt.xlabel('Number of epochs')\n",
    "plt.ylabel('Accuracy on training/validation data')\n",
    "plt.legend(bbox_to_anchor=(1.05, 1), loc=2, borderaxespad=0.)\n",
    "plt.show()"
   ]
  },
  {
   "cell_type": "markdown",
   "metadata": {},
   "source": [
    "### Question 2. Predictions on the test data (1 point)\n",
    "\n",
    "#### Hint:\n",
    "\n",
    "* Predict class labels using `predict` function\n",
    "* Sample code:\n",
    "\n",
    "```python\n",
    "\n",
    "# Make predictions on test data\n",
    "probabilities = model.predict(x_test_new, batch_size=128)\n",
    "classes = probabilities.argmax(axis=-1)\n",
    "classes\n",
    "\n",
    "```\n",
    "\n",
    "References: https://keras.io/models/model/"
   ]
  },
  {
   "cell_type": "code",
   "execution_count": 32,
   "metadata": {},
   "outputs": [],
   "source": [
    "# Import test dataset\n",
    "test = pd.read_csv('./test.csv')\n",
    "\n",
    "# Transform features and outputs\n",
    "test_feature = test.iloc[:,:].values / 255"
   ]
  },
  {
   "cell_type": "code",
   "execution_count": 33,
   "metadata": {},
   "outputs": [
    {
     "data": {
      "text/plain": [
       "array([2, 0, 9, ..., 3, 9, 2])"
      ]
     },
     "execution_count": 33,
     "metadata": {},
     "output_type": "execute_result"
    }
   ],
   "source": [
    "# Make predictions on test data\n",
    "# Write your code here\n",
    "probabilities = model.predict(test_feature, batch_size=128)\n",
    "classes = probabilities.argmax(axis=-1)\n",
    "classes"
   ]
  },
  {
   "cell_type": "code",
   "execution_count": 34,
   "metadata": {},
   "outputs": [
    {
     "data": {
      "image/png": "[encoded data removed]",
      "text/plain": [
       "<Figure size 432x288 with 1 Axes>"
      ]
     },
     "metadata": {},
     "output_type": "display_data"
    }
   ],
   "source": [
    "# What does the first image in test_feature look like\n",
    "# Whether do we predict it correctly?\n",
    "import matplotlib.pyplot as plt\n",
    "from __future__ import division\n",
    "%matplotlib inline\n",
    "\n",
    "plt.imshow(np.array(test_feature[0,:]).reshape((28, 28)), cmap=\"gray\")\n",
    "plt.title(\"This digit is %d\" % classes[0])\n",
    "plt.show()"
   ]
  },
  {
   "cell_type": "markdown",
   "metadata": {},
   "source": [
    "### Question 3. Does neural network model have overfit problems? If so, how do you avoid overfitting in neural network modeling? (1 point)"
   ]
  },
  {
   "cell_type": "markdown",
   "metadata": {},
   "source": [
    "**Yes, like other machine learning algorithms, neural network also has overfitting problems**\n",
    "\n",
    "**Some methods to avoid overfitting in neural networks:**<br>\n",
    "**1. Early Stopping**<br>\n",
    "**2. Patameters regularization(including L1 and L2 for activation function)**<br>\n",
    "**3. Drop out(randomly drop out neurons based on bernoulli distribution)**<br>"
   ]
  },
  {
   "cell_type": "markdown",
   "metadata": {},
   "source": [
    "## 4 References\n",
    "[1] Chris Albon. (2018). Machine Learning with Python Cookbook. O'Reilly."
   ]
  }
 ],
 "metadata": {
  "kernelspec": {
   "display_name": "Python 3",
   "language": "python",
   "name": "python3"
  },
  "language_info": {
   "codemirror_mode": {
    "name": "ipython",
    "version": 3
   },
   "file_extension": ".py",
   "mimetype": "text/x-python",
   "name": "python",
   "nbconvert_exporter": "python",
   "pygments_lexer": "ipython3",
   "version": "3.6.5"
  }
 },
 "nbformat": 4,
 "nbformat_minor": 2
}
